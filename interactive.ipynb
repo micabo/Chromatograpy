{
 "cells": [
  {
   "cell_type": "markdown",
   "id": "85177885",
   "metadata": {},
   "source": [
    "# Interactive Notebook\n",
    "\n",
    "Using Jupyter widgets to make simulations more accessible."
   ]
  },
  {
   "cell_type": "code",
   "execution_count": 10,
   "id": "022271cc",
   "metadata": {},
   "outputs": [],
   "source": [
    "import matplotlib.pyplot as plt\n",
    "import ipywidgets as widgets\n",
    "from ipywidgets import fixed\n",
    "from chromatograpy.simulate import simulate_column_1"
   ]
  },
  {
   "cell_type": "markdown",
   "id": "ef05201d",
   "metadata": {},
   "source": [
    "## Ideal Situation"
   ]
  },
  {
   "cell_type": "code",
   "execution_count": 11,
   "id": "4e5e5f16",
   "metadata": {},
   "outputs": [],
   "source": [
    "def plot_simulation(n_cells: int, n_steps: int, n_molecules: int, K: float):\n",
    "    mobile_phase = simulate_column_1(n_cells, n_steps, n_molecules, K)\n",
    "    fig, ax = plt.subplots()\n",
    "    ax.plot(mobile_phase)\n",
    "    ax.set_xlim(0, n_steps)\n",
    "    return fig"
   ]
  },
  {
   "cell_type": "code",
   "execution_count": 12,
   "id": "6c0a11c6",
   "metadata": {},
   "outputs": [
    {
     "data": {
      "application/vnd.jupyter.widget-view+json": {
       "model_id": "c9d97237740d4b6796fd9261ebec9803",
       "version_major": 2,
       "version_minor": 0
      },
      "text/plain": [
       "HBox(children=(IntSlider(value=100, description='Number of Cells', max=500, min=50, step=50), BoundedFloatText…"
      ]
     },
     "metadata": {},
     "output_type": "display_data"
    },
    {
     "data": {
      "application/vnd.jupyter.widget-view+json": {
       "model_id": "737fb78efeaa4b6ba182635f3d690687",
       "version_major": 2,
       "version_minor": 0
      },
      "text/plain": [
       "Output()"
      ]
     },
     "metadata": {},
     "output_type": "display_data"
    }
   ],
   "source": [
    "n_cell_widget = widgets.IntSlider(\n",
    "    value=100, min=50, max=500, step=50, description=\"Number of Cells\"\n",
    ")\n",
    "k_widget = widgets.BoundedFloatText(\n",
    "    value=3.0, min=0.1, max=10, description=\"Equilibrium constant K\"\n",
    ")\n",
    "\n",
    "ui = widgets.HBox([n_cell_widget, k_widget])\n",
    "out = widgets.interactive_output(\n",
    "    plot_simulation,\n",
    "    dict(\n",
    "        n_cells=n_cell_widget,\n",
    "        n_steps=fixed(1000),\n",
    "        n_molecules=fixed(int(1e10)),\n",
    "        K=k_widget,\n",
    "    ),\n",
    ")\n",
    "\n",
    "display(ui, out)"
   ]
  }
 ],
 "metadata": {
  "kernelspec": {
   "display_name": ".venv",
   "language": "python",
   "name": "python3"
  },
  "language_info": {
   "codemirror_mode": {
    "name": "ipython",
    "version": 3
   },
   "file_extension": ".py",
   "mimetype": "text/x-python",
   "name": "python",
   "nbconvert_exporter": "python",
   "pygments_lexer": "ipython3",
   "version": "3.13.7"
  }
 },
 "nbformat": 4,
 "nbformat_minor": 5
}
