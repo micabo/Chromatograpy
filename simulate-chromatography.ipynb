{
 "cells": [
  {
   "cell_type": "markdown",
   "id": "4ddbdab1a168f8c",
   "metadata": {},
   "source": [
    "# Chromatography\n",
    "\n",
    "Let's simulate the chromatographic process!\n",
    "To do this, we will use a very simple cell model.\n",
    "\n",
    "## Cell Model\n",
    "\n",
    "We imagine the stationary (i.e. the column) and the mobile phase to consist of cells.\n",
    "Each cell of the stationary phase is in contact with one cell from the mobile phase.\n",
    "We distribute the molecules between the stationary and mobile phase according to the equilibrium constant.\n",
    "When this is done, we move the mobile phase cells 'down one cell' such that they are in contact with the next\n",
    "cell of the stationary phase. Note: we use zero-based indexing for the cells (as does Python), so the first cell is cell 0.\n",
    "\n",
    "![Cell Model](./img/cell-model.jpg)\n",
    "\n",
    "## Equilibrium\n",
    "\n",
    "The molecules will partition between their bound and free state according to an equilibrium constant $K$.\n",
    "Since we will assume all the cells to be the same size (i.e. have the same volume) we can calculate with\n",
    "amounts of molecules directly and do not need to bother with concentrations.\n",
    "\n",
    "$$K = \\frac{c_{bound}}{c_{free}} = \\frac{n_{bound}/V_{cell}}{n_{free}/V_{cell}} = \\frac{n_{bound}}{n_{free}}$$\n",
    "\n",
    "Computationally, it is much easier to reformulate the equilibrium constant as a fraction of bound molecules give the total number of molecules.\n",
    "\n",
    "$$f_{bound} = \\frac{K}{1 + K} \\cdot n_{total}$$\n",
    "\n",
    "The number of free molecules is then simply $n_{free} = n_{total} - n_{bound}$."
   ]
  },
  {
   "cell_type": "markdown",
   "id": "ba3d68b0f7f71cc0",
   "metadata": {},
   "source": [
    "## Setup"
   ]
  },
  {
   "cell_type": "code",
   "execution_count": null,
   "id": "88a39acb72e4c36e",
   "metadata": {
    "ExecuteTime": {
     "end_time": "2025-09-08T07:32:06.848601Z",
     "start_time": "2025-09-08T07:32:06.846302Z"
    }
   },
   "outputs": [],
   "source": [
    "import numpy as np\n",
    "import matplotlib.pyplot as plt\n",
    "import ipywidgets as widgets\n",
    "\n",
    "from math import floor\n",
    "from ipywidgets import fixed"
   ]
  },
  {
   "cell_type": "markdown",
   "id": "28c347dbc22ff7bb",
   "metadata": {},
   "source": [
    "## Single Compound, Equilibrium"
   ]
  },
  {
   "cell_type": "code",
   "execution_count": 2,
   "id": "8309f88c",
   "metadata": {
    "ExecuteTime": {
     "end_time": "2025-09-08T07:34:47.047837Z",
     "start_time": "2025-09-08T07:34:47.044072Z"
    }
   },
   "outputs": [],
   "source": [
    "def simulate_column_1(n_cells: int, n_steps: int, n_molecules: int, K: float):\n",
    "    # Reformat K to a fractional entity\n",
    "    frac_bound = K / (1 + K)\n",
    "\n",
    "    # Initial state (zero everywhere)\n",
    "    stationary_phase = np.zeros(n_cells)\n",
    "    mobile_phase = np.zeros(n_cells + n_steps)\n",
    "\n",
    "    # Loading of mobile phase in cell just before the stationary phase\n",
    "    mobile_phase[n_cells] = n_molecules\n",
    "\n",
    "    for step in range(1, n_steps + 1):\n",
    "        # Equilibration\n",
    "        for cell in range(n_cells):\n",
    "            n_tot = stationary_phase[cell] + mobile_phase[cell + step]\n",
    "            n_bound = floor(n_tot * frac_bound)\n",
    "            n_free = n_tot - n_bound\n",
    "            stationary_phase[cell] = n_bound\n",
    "            mobile_phase[cell + step] = n_free\n",
    "\n",
    "    fig, ax = plt.subplots()\n",
    "    ax.plot(mobile_phase)\n",
    "    ax.set_xlim(0, n_steps)\n",
    "    return fig"
   ]
  },
  {
   "cell_type": "code",
   "execution_count": null,
   "id": "bacbb1fb36dd6bd",
   "metadata": {
    "ExecuteTime": {
     "end_time": "2025-09-06T12:54:49.511642Z",
     "start_time": "2025-09-06T12:54:49.509213Z"
    }
   },
   "outputs": [
    {
     "data": {
      "application/vnd.jupyter.widget-view+json": {
       "model_id": "2303884f6f2a41a7a7323fdbb9bfba64",
       "version_major": 2,
       "version_minor": 0
      },
      "text/plain": [
       "HBox(children=(IntSlider(value=100, description='Number of Cells', max=500, min=50, step=50), BoundedFloatText…"
      ]
     },
     "metadata": {},
     "output_type": "display_data"
    },
    {
     "data": {
      "application/vnd.jupyter.widget-view+json": {
       "model_id": "3989a44ee0894616846fa670c3884e49",
       "version_major": 2,
       "version_minor": 0
      },
      "text/plain": [
       "Output()"
      ]
     },
     "metadata": {},
     "output_type": "display_data"
    }
   ],
   "source": [
    "n_cell_widget = widgets.IntSlider(\n",
    "    value=100, min=50, max=500, step=50, description=\"Number of Cells\"\n",
    ")\n",
    "k_widget = widgets.BoundedFloatText(\n",
    "    value=3.0, min=0.1, max=10, description=\"Equilibrium constant K\"\n",
    ")\n",
    "\n",
    "ui = widgets.HBox([n_cell_widget, k_widget])\n",
    "out = widgets.interactive_output(\n",
    "    simulate_column_1,\n",
    "    dict(\n",
    "        n_cells=n_cell_widget,\n",
    "        n_steps=fixed(1000),\n",
    "        n_molecules=fixed(int(1e10)),\n",
    "        K=k_widget,\n",
    "    ),\n",
    ")\n",
    "\n",
    "display(ui, out)"
   ]
  },
  {
   "cell_type": "code",
   "execution_count": null,
   "id": "296ce226-3f40-4903-bbaf-d8d419c1286d",
   "metadata": {},
   "outputs": [],
   "source": []
  }
 ],
 "metadata": {
  "kernelspec": {
   "display_name": "Python 3 (ipykernel)",
   "language": "python",
   "name": "python3"
  },
  "language_info": {
   "codemirror_mode": {
    "name": "ipython",
    "version": 3
   },
   "file_extension": ".py",
   "mimetype": "text/x-python",
   "name": "python",
   "nbconvert_exporter": "python",
   "pygments_lexer": "ipython3",
   "version": "3.13.7"
  }
 },
 "nbformat": 4,
 "nbformat_minor": 5
}
