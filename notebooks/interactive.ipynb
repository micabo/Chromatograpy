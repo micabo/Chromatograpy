{
 "cells": [
  {
   "cell_type": "code",
   "execution_count": null,
   "id": "022271cc",
   "metadata": {},
   "outputs": [],
   "source": [
    "import numpy as np\n",
    "import matplotlib.pyplot as plt\n",
    "import ipywidgets as widgets\n",
    "from ipywidgets import fixed"
   ]
  },
  {
   "cell_type": "code",
   "execution_count": null,
   "id": "4e5e5f16",
   "metadata": {},
   "outputs": [],
   "source": [
    "def simulate_column_1(n_cells: int, n_steps: int, n_molecules: int, K: float):\n",
    "    # Reformat K to a fractional entity\n",
    "    frac_bound = K / (1 + K)\n",
    "\n",
    "    # Initial state (zero everywhere)\n",
    "    stationary_phase = np.zeros(n_cells)\n",
    "    mobile_phase = np.zeros(n_cells + n_steps)\n",
    "\n",
    "    # Loading of mobile phase in cell just before the stationary phase\n",
    "    mobile_phase[n_cells] = n_molecules\n",
    "\n",
    "    for step in range(1, n_steps + 1):\n",
    "        # Equilibration\n",
    "        for cell in range(n_cells):\n",
    "            n_tot = stationary_phase[cell] + mobile_phase[cell + step]\n",
    "            n_bound = np.floor(n_tot * frac_bound)\n",
    "            n_free = n_tot - n_bound\n",
    "            stationary_phase[cell] = n_bound\n",
    "            mobile_phase[cell + step] = n_free\n",
    "\n",
    "    fig, ax = plt.subplots()\n",
    "    ax.plot(mobile_phase)\n",
    "    ax.set_xlim(0, n_steps)\n",
    "    return fig"
   ]
  },
  {
   "cell_type": "code",
   "execution_count": null,
   "id": "6c0a11c6",
   "metadata": {},
   "outputs": [],
   "source": [
    "n_cell_widget = widgets.IntSlider(\n",
    "    value=100, min=50, max=500, step=50, description=\"Number of Cells\"\n",
    ")\n",
    "k_widget = widgets.BoundedFloatText(\n",
    "    value=3.0, min=0.1, max=10, description=\"Equilibrium constant K\"\n",
    ")\n",
    "\n",
    "ui = widgets.HBox([n_cell_widget, k_widget])\n",
    "out = widgets.interactive_output(\n",
    "    simulate_column_1,\n",
    "    dict(\n",
    "        n_cells=n_cell_widget,\n",
    "        n_steps=fixed(1000),\n",
    "        n_molecules=fixed(int(1e10)),\n",
    "        K=k_widget,\n",
    "    ),\n",
    ")\n",
    "\n",
    "display(ui, out)"
   ]
  }
 ],
 "metadata": {
  "language_info": {
   "name": "python"
  }
 },
 "nbformat": 4,
 "nbformat_minor": 5
}
